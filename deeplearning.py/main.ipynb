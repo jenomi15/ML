{
 "cells": [
  {
   "cell_type": "code",
   "execution_count": 2,
   "id": "de691256",
   "metadata": {},
   "outputs": [
    {
     "name": "stdout",
     "output_type": "stream",
     "text": [
      "2.19.0\n",
      "Epoch 1/3\n",
      "\u001b[1m1875/1875\u001b[0m \u001b[32m━━━━━━━━━━━━━━━━━━━━\u001b[0m\u001b[37m\u001b[0m \u001b[1m8s\u001b[0m 1ms/step - accuracy: 0.8655 - loss: 0.4679\n",
      "Epoch 2/3\n",
      "\u001b[1m1875/1875\u001b[0m \u001b[32m━━━━━━━━━━━━━━━━━━━━\u001b[0m\u001b[37m\u001b[0m \u001b[1m2s\u001b[0m 1ms/step - accuracy: 0.9640 - loss: 0.1154\n",
      "Epoch 3/3\n",
      "\u001b[1m1875/1875\u001b[0m \u001b[32m━━━━━━━━━━━━━━━━━━━━\u001b[0m\u001b[37m\u001b[0m \u001b[1m2s\u001b[0m 1ms/step - accuracy: 0.9768 - loss: 0.0742\n",
      "\u001b[1m313/313\u001b[0m \u001b[32m━━━━━━━━━━━━━━━━━━━━\u001b[0m\u001b[37m\u001b[0m \u001b[1m0s\u001b[0m 822us/step - accuracy: 0.9671 - loss: 0.0990\n",
      "0.08510874956846237 0.9726999998092651\n"
     ]
    }
   ],
   "source": [
    "import tensorflow as tf \n",
    "\n",
    "print(tf.__version__)\n",
    "\n",
    "\n",
    "mnist = tf.keras.datasets.mnist   # number of images 28x28\n",
    "(x_train , y_train ) , (x_test , y_test) = mnist.load_data()\n",
    "x_train = tf.keras.utils.normalize( x_train , axis=1)\n",
    "x_test = tf.keras.utils.normalize( x_test, axis=1)    # nornalizar para os dados para entre  0 e 1 ( ajuda no aprendizado )\n",
    "model = tf.keras.models.Sequential()\n",
    "model.add(tf.keras.layers.Flatten())\n",
    "model.add(tf.keras.layers.Dense(128, activation='relu'))\n",
    "model.add(tf.keras.layers.Dense(128, activation='relu'))\n",
    "model.add(tf.keras.layers.Dense(10, activation='softmax'))\n",
    "\n",
    "model.compile(optimizer = 'adam',\n",
    "              loss= 'sparse_categorical_crossentropy',\n",
    "              metrics =['accuracy'])\n",
    "\n",
    "model.fit(x_train, y_train, epochs = 3)\n",
    "\n",
    "val_loss , val_acc = model.evaluate(x_test , y_test)\n",
    "print(val_loss, val_acc)"
   ]
  },
  {
   "cell_type": "code",
   "execution_count": 11,
   "id": "4e720327",
   "metadata": {},
   "outputs": [
    {
     "name": "stdout",
     "output_type": "stream",
     "text": [
      "\u001b[1m313/313\u001b[0m \u001b[32m━━━━━━━━━━━━━━━━━━━━\u001b[0m\u001b[37m\u001b[0m \u001b[1m0s\u001b[0m 754us/step\n",
      "[[9.3032098e-09 2.9114594e-07 1.8585884e-05 ... 9.9975604e-01\n",
      "  1.0381282e-06 2.0165862e-05]\n",
      " [2.4461374e-07 6.0597598e-03 9.9377632e-01 ... 3.2792551e-07\n",
      "  1.6329775e-05 5.5670846e-10]\n",
      " [1.9686336e-08 9.9976569e-01 1.4299424e-05 ... 1.5964787e-04\n",
      "  4.6978166e-05 1.0599795e-06]\n",
      " ...\n",
      " [4.3842063e-10 3.0150909e-07 5.2511098e-07 ... 3.7189460e-05\n",
      "  4.5696987e-07 7.4451200e-05]\n",
      " [1.4556745e-06 3.7753434e-08 1.5186068e-06 ... 2.4052554e-06\n",
      "  5.8460364e-04 1.6811880e-08]\n",
      " [3.6285107e-06 1.2116689e-06 4.3499770e-07 ... 4.3495323e-09\n",
      "  4.9389001e-07 4.7279180e-08]]\n",
      "0\n"
     ]
    },
    {
     "data": {
      "image/png": "[encoded data removed]",
      "text/plain": [
       "<Figure size 640x480 with 1 Axes>"
      ]
     },
     "metadata": {},
     "output_type": "display_data"
    }
   ],
   "source": [
    "model.save('goated.keras')\n",
    "new_model = tf.keras.models.load_model('goated.keras')\n",
    "\n",
    "predictions = new_model.predict([x_test])\n",
    "print(predictions)\n",
    "\n",
    "from matplotlib import pyplot as plt\n",
    "import numpy as np \n",
    "print(np.argmax(predictions[55]))\n",
    "plt.imshow(x_test[55])\n",
    "plt.show()\n"
   ]
  },
  {
   "cell_type": "code",
   "execution_count": null,
   "id": "c83c7baa",
   "metadata": {},
   "outputs": [],
   "source": [
    "import matplotlib.pyplot as plt \n",
    "plt.imshow(x_train[0] , cmap = plt.cm.binary)\n",
    "print(x_train[0])"
   ]
  }
 ],
 "metadata": {
  "kernelspec": {
   "display_name": "Python 3",
   "language": "python",
   "name": "python3"
  },
  "language_info": {
   "codemirror_mode": {
    "name": "ipython",
    "version": 3
   },
   "file_extension": ".py",
   "mimetype": "text/x-python",
   "name": "python",
   "nbconvert_exporter": "python",
   "pygments_lexer": "ipython3",
   "version": "3.10.0"
  }
 },
 "nbformat": 4,
 "nbformat_minor": 5
}
