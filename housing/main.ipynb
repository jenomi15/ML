{
 "cells": [
  {
   "cell_type": "code",
   "execution_count": null,
   "id": "fa20e928",
   "metadata": {},
   "outputs": [],
   "source": [
    "import os\n",
    "import tarfile\n",
    "import urllib.request\n",
    "import pandas as pd\n",
    "\n",
    "# URL correta do dataset\n",
    "DOWNLOAD_ROOT = \"https://raw.githubusercontent.com/ageron/handson-ml2/master/\"\n",
    "HOUSING_PATH = os.path.join(\"datasets\", \"housing\")\n",
    "HOUSING_URL = DOWNLOAD_ROOT + \"datasets/housing/housing.tgz\"\n",
    "\n",
    "def fetch_housing_data(housing_url=HOUSING_URL, housing_path=HOUSING_PATH):   #baixa e extrai os dados\n",
    "    os.makedirs(housing_path, exist_ok=True)\n",
    "    tgz_path = os.path.join(housing_path, \"housing.tgz\")\n",
    "    urllib.request.urlretrieve(housing_url, tgz_path)\n",
    "    housing_tgz = tarfile.open(tgz_path)\n",
    "    housing_tgz.extractall(path=housing_path)\n",
    "    housing_tgz.close()\n",
    "\n"
   ]
  },
  {
   "cell_type": "code",
   "execution_count": null,
   "id": "9554b974",
   "metadata": {},
   "outputs": [],
   "source": [
    "def load_housing_data(housing_path=HOUSING_PATH):\n",
    "    csv_path = os.path.join(housing_path, \"housing.csv\")\n",
    "    return pd.read_csv(csv_path)   #le os dados e transforma eles em dataframes\n",
    "fetch_housing_data()\n",
    "housing = load_housing_data()"
   ]
  },
  {
   "cell_type": "code",
   "execution_count": null,
   "id": "261c8f1e",
   "metadata": {},
   "outputs": [],
   "source": [
    "print(housing.head()) #mostra as primeiras 5 linhas do dataframe e as colunas"
   ]
  },
  {
   "cell_type": "code",
   "execution_count": null,
   "id": "5ecefb67",
   "metadata": {},
   "outputs": [],
   "source": [
    "print(housing.info()) #mostra os tipos de dados presentes no dataframe, e é possivel perceber que na coluna total_bedrooms existem valores nulos e tambem que a ocean proximity é categórica (OBJECTS)"
   ]
  },
  {
   "cell_type": "code",
   "execution_count": null,
   "id": "bca6ce36",
   "metadata": {},
   "outputs": [],
   "source": [
    "housing.describe() #apresenta alguns dados estatisticos do df\n"
   ]
  },
  {
   "cell_type": "code",
   "execution_count": null,
   "id": "5274ba59",
   "metadata": {},
   "outputs": [],
   "source": [
    "housing[\"ocean_proximity\"].value_counts() #mostra os valores objects no df"
   ]
  }
 ],
 "metadata": {
  "kernelspec": {
   "display_name": "Python 3",
   "language": "python",
   "name": "python3"
  },
  "language_info": {
   "codemirror_mode": {
    "name": "ipython",
    "version": 3
   },
   "file_extension": ".py",
   "mimetype": "text/x-python",
   "name": "python",
   "nbconvert_exporter": "python",
   "pygments_lexer": "ipython3",
   "version": "3.10.0"
  }
 },
 "nbformat": 4,
 "nbformat_minor": 5
}
