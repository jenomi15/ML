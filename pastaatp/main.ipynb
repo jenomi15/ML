{
 "cells": [
  {
   "cell_type": "code",
   "execution_count": null,
   "id": "e30c64fd",
   "metadata": {},
   "outputs": [],
   "source": [
    "import pandas as pd \n",
    "import numpy as np \n",
    "import matplotlib.pyplot as ptl   \n",
    "from sklearn.model_selection import train_test_split\n",
    "from sklearn.ensemble import RandomForestClassifier \n",
    "from sklearn.metrics import accuracy_score\n",
    "import glob\n",
    "caminho = r\"C:\\Users\\joao\\Desktop\\ML\\pastaatp\\*.csv\"\n",
    "arquivos_csv = glob.glob(caminho)\n",
    "df = pd.concat((pd.read_csv(arquivo) for arquivo in arquivos_csv), ignore_index=True)\n",
    "#print(df)\n",
    "print(df.dtypes)\n",
    "#print(df.isnull().sum())\n",
    "for col in df.select_dtypes(include=['object']).columns:\n",
    "    print(col)\n",
    "print((df == \"?\").sum())"
   ]
  },
  {
   "cell_type": "code",
   "execution_count": 7,
   "id": "7071afc1",
   "metadata": {},
   "outputs": [
    {
     "name": "stdout",
     "output_type": "stream",
     "text": [
      "0         1034\n",
      "1         2520\n",
      "2          649\n",
      "3         4090\n",
      "4          335\n",
      "          ... \n",
      "194991    2023\n",
      "194992    3021\n",
      "194993    2410\n",
      "194994    3021\n",
      "194995    3353\n",
      "Length: 194996, dtype: int16\n",
      "        draw_size  match_num  winner_id  winner_seed   winner_ht  winner_age  \\\n",
      "0            32.0        270     112411     6.340612  184.573349   25.681538   \n",
      "1            32.0        271     126914     6.340612  184.573349   25.681538   \n",
      "2            32.0        272     209523     6.340612  184.573349   25.681538   \n",
      "3            32.0        273     100084     6.340612  178.000000   24.300000   \n",
      "4            32.0        274     100132     6.340612  184.573349   21.300000   \n",
      "...           ...        ...        ...          ...         ...         ...   \n",
      "194991        4.0          5     212051     6.340612  184.573349   18.800000   \n",
      "194992        4.0          1     122533     6.340612  175.000000   26.900000   \n",
      "194993        4.0          2     144748     6.340612  185.000000   27.300000   \n",
      "194994        4.0          4     122533     6.340612  175.000000   26.900000   \n",
      "194995        4.0          5     202475     6.340612  184.573349   23.200000   \n",
      "\n",
      "        loser_id  loser_seed    loser_ht  loser_age  ...  round_BR  round_ER  \\\n",
      "0         110196    7.754287  184.318808  24.000000  ...     False     False   \n",
      "1         209536    7.754287  184.318808  25.737202  ...     False     False   \n",
      "2         209535    7.754287  184.318808  25.737202  ...     False     False   \n",
      "3         209534    7.754287  184.318808  25.737202  ...     False     False   \n",
      "4         209533    7.754287  184.318808  25.737202  ...     False     False   \n",
      "...          ...         ...         ...        ...  ...       ...       ...   \n",
      "194991    209943    7.754287  188.000000  21.800000  ...     False     False   \n",
      "194992    202475    7.754287  184.318808  23.200000  ...     False     False   \n",
      "194993    144775    7.754287  183.000000  26.400000  ...     False     False   \n",
      "194994    144748    7.754287  185.000000  27.300000  ...     False     False   \n",
      "194995    144775    7.754287  183.000000  26.400000  ...     False     False   \n",
      "\n",
      "        round_F  round_QF  round_R128  round_R16  round_R32  round_R64  \\\n",
      "0         False     False       False      False       True      False   \n",
      "1         False     False       False      False       True      False   \n",
      "2         False     False       False      False       True      False   \n",
      "3         False     False       False      False       True      False   \n",
      "4         False     False       False      False       True      False   \n",
      "...         ...       ...         ...        ...        ...        ...   \n",
      "194991    False     False       False      False      False      False   \n",
      "194992    False     False       False      False      False      False   \n",
      "194993    False     False       False      False      False      False   \n",
      "194994    False     False       False      False      False      False   \n",
      "194995    False     False       False      False      False      False   \n",
      "\n",
      "        round_RR  round_SF  \n",
      "0          False     False  \n",
      "1          False     False  \n",
      "2          False     False  \n",
      "3          False     False  \n",
      "4          False     False  \n",
      "...          ...       ...  \n",
      "194991      True     False  \n",
      "194992      True     False  \n",
      "194993      True     False  \n",
      "194994      True     False  \n",
      "194995      True     False  \n",
      "\n",
      "[194996 rows x 11680 columns]\n"
     ]
    }
   ],
   "source": [
    "X = df.drop(columns=['winner_name', 'tourney_date','tourney_id' ,'winner_entry','winner_ioc','loser_entry','loser_ioc','score'])\n",
    "X = pd.get_dummies(X, columns=['tourney_name', 'surface', 'tourney_level', 'winner_hand', 'loser_name', 'loser_hand', 'round'], drop_first=False)\n",
    "Y = df['winner_name']\n",
    "Y = df['winner_name'].astype('category').cat.codes\n",
    "X.fillna(X.mean(),inplace = True)\n",
    "print(Y)\n",
    "print(X)"
   ]
  },
  {
   "cell_type": "code",
   "execution_count": null,
   "id": "178d2d22",
   "metadata": {},
   "outputs": [],
   "source": [
    "X_train , X_test , Y_train, Y_test = train_test_split(X , Y , test_size= 0.2, random_state=1)\n",
    "rdm = RandomForestClassifier(\n",
    "    n_estimators=100,   # menos árvores\n",
    "    max_depth=30,      # limita profundidade\n",
    "    max_features=\"sqrt\",  # usa menos features por split\n",
    "    random_state=1\n",
    ")\n",
    "rdm.fit(X_train , Y_train)\n",
    "Y_pred = rdm.predict(X_test)\n",
    "accuracy = accuracy_score(Y_test , Y_pred)\n",
    "print(accuracy)"
   ]
  }
 ],
 "metadata": {
  "kernelspec": {
   "display_name": "Python 3",
   "language": "python",
   "name": "python3"
  },
  "language_info": {
   "codemirror_mode": {
    "name": "ipython",
    "version": 3
   },
   "file_extension": ".py",
   "mimetype": "text/x-python",
   "name": "python",
   "nbconvert_exporter": "python",
   "pygments_lexer": "ipython3",
   "version": "3.10.0"
  }
 },
 "nbformat": 4,
 "nbformat_minor": 5
}
